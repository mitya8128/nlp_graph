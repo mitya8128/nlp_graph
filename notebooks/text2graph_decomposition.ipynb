{
 "cells": [
  {
   "cell_type": "code",
   "execution_count": 1,
   "metadata": {},
   "outputs": [],
   "source": [
    "from gensim.models.keyedvectors import KeyedVectors\n",
    "import numpy as np\n",
    "import sys\n",
    "sys.path.append('..')\n",
    "sys.path.append('../')\n",
    "\n",
    "from utils import*\n",
    "from graph_decomposition import*"
   ]
  },
  {
   "cell_type": "code",
   "execution_count": 2,
   "metadata": {},
   "outputs": [],
   "source": [
    "model_path = '/home/mitya/PycharmProjects/nlp_graph/model.bin'\n",
    "model = KeyedVectors.load_word2vec_format(model_path, binary=True)"
   ]
  },
  {
   "cell_type": "code",
   "execution_count": 3,
   "metadata": {},
   "outputs": [],
   "source": [
    "text = \"Есть рядом две земли: Швейцария и Италия. Между этими двумя землями есть горы Альпы. Горы эти так высоки, что снег на них никогда не тает. По дороге из Швейцарии в Италию надо переходить через эти горы. Дорога идёт через гору Сан-Готард. На самом верху этой горы, на дороге, построен монастырь. И в этом монастыре живут монахи. Монахи эти молятся Богу и пускают к себе дорожных людей на отдых и на ночлег. На Сан-Готарде всегда бывает пасмурно; летом туман, и ничего не видно. А зимой бывают такие метели, что на пять аршин заносит снегом. И проезжие и прохожие часто замерзают в эти метели. У монахов есть собаки. И собаки эти приучены отыскивать в снегу людей.Один раз по дороге в Швейцарию шла женщина с ребёночком. Началась метель; женщина сбилась с дороги, села в снегу и застыла. Монахи вышли с собаками и нашли женщину с ребёночком. Монахи отогрели ребёночка и выкормили. А женщину они принесли уже мёртвую и похоронили у себя в монастыре.\""
   ]
  },
  {
   "cell_type": "code",
   "execution_count": 4,
   "metadata": {},
   "outputs": [],
   "source": [
    "graph = text2graph(text, 0.1)\n",
    "max_clique = find_max_clique(graph)"
   ]
  },
  {
   "cell_type": "code",
   "execution_count": 5,
   "metadata": {},
   "outputs": [
    {
     "data": {
      "text/plain": [
       "258.2682241946459"
      ]
     },
     "execution_count": 5,
     "metadata": {},
     "output_type": "execute_result"
    }
   ],
   "source": [
    "clique_weights(max_clique)"
   ]
  },
  {
   "cell_type": "code",
   "execution_count": 9,
   "metadata": {},
   "outputs": [],
   "source": [
    "# experiment with different threshhold on each iteration\n",
    "# (graph -> max_clique -> new graph(gen. with another th) -> max_clique -> ... -> some end 'cluster')\n",
    "\n",
    "list_dicts = []\n",
    "for i in np.arange(0.1, 0.9, 0.1):\n",
    "    new_graph = text2graph(max_clique, i, raw=False)\n",
    "    max_clique_new = find_max_clique(new_graph)\n",
    "    list_dicts.append(max_clique_new)"
   ]
  },
  {
   "cell_type": "code",
   "execution_count": 10,
   "metadata": {},
   "outputs": [
    {
     "data": {
      "text/plain": [
       "[{'аршин_NOUN',\n",
       "  'бог_NOUN',\n",
       "  'бывать_VERB',\n",
       "  'верх_NOUN',\n",
       "  'высокий_ADJ',\n",
       "  'гора_NOUN',\n",
       "  'дорога_NOUN',\n",
       "  'женщина_NOUN',\n",
       "  'замерзать_VERB',\n",
       "  'застылый_ADJ',\n",
       "  'идти_VERB',\n",
       "  'лето_NOUN',\n",
       "  'метель_NOUN',\n",
       "  'молиться_VERB',\n",
       "  'монастырь_NOUN',\n",
       "  'монах_NOUN',\n",
       "  'ночлег_NOUN',\n",
       "  'отыскивать_VERB',\n",
       "  'пасмурно_ADV',\n",
       "  'переходить_VERB',\n",
       "  'проезжий_NOUN',\n",
       "  'прохожий_NOUN',\n",
       "  'пускать_VERB',\n",
       "  'сбиться_VERB',\n",
       "  'село_NOUN',\n",
       "  'снег_NOUN',\n",
       "  'собака_NOUN',\n",
       "  'таять_VERB',\n",
       "  'туман_NOUN',\n",
       "  'человек_NOUN'},\n",
       " {'бывать_VERB',\n",
       "  'гора_NOUN',\n",
       "  'дорога_NOUN',\n",
       "  'женщина_NOUN',\n",
       "  'застылый_ADJ',\n",
       "  'идти_VERB',\n",
       "  'метель_NOUN',\n",
       "  'проезжий_NOUN',\n",
       "  'прохожий_NOUN',\n",
       "  'сбиться_VERB',\n",
       "  'снег_NOUN',\n",
       "  'собака_NOUN',\n",
       "  'туман_NOUN'},\n",
       " {'гора_NOUN', 'застылый_ADJ', 'метель_NOUN', 'снег_NOUN', 'таять_VERB'},\n",
       " {'метель_NOUN', 'пасмурно_ADV', 'снег_NOUN', 'туман_NOUN'},\n",
       " {'замерзать_VERB', 'снег_NOUN', 'таять_VERB'},\n",
       " {'монастырь_NOUN', 'монах_NOUN'},\n",
       " {'человек_NOUN'},\n",
       " {'человек_NOUN'}]"
      ]
     },
     "execution_count": 10,
     "metadata": {},
     "output_type": "execute_result"
    }
   ],
   "source": [
    "list_dicts"
   ]
  },
  {
   "cell_type": "code",
   "execution_count": 11,
   "metadata": {},
   "outputs": [],
   "source": [
    "u = set(list_dicts[0]).intersection(set(list_dicts[1]))"
   ]
  },
  {
   "cell_type": "code",
   "execution_count": 12,
   "metadata": {},
   "outputs": [
    {
     "data": {
      "text/plain": [
       "{'бывать_VERB',\n",
       " 'гора_NOUN',\n",
       " 'дорога_NOUN',\n",
       " 'женщина_NOUN',\n",
       " 'застылый_ADJ',\n",
       " 'идти_VERB',\n",
       " 'метель_NOUN',\n",
       " 'проезжий_NOUN',\n",
       " 'прохожий_NOUN',\n",
       " 'сбиться_VERB',\n",
       " 'снег_NOUN',\n",
       " 'собака_NOUN',\n",
       " 'туман_NOUN'}"
      ]
     },
     "execution_count": 12,
     "metadata": {},
     "output_type": "execute_result"
    }
   ],
   "source": [
    "# set intersection\n",
    "u"
   ]
  },
  {
   "cell_type": "code",
   "execution_count": null,
   "metadata": {},
   "outputs": [],
   "source": [
    "def "
   ]
  },
  {
   "cell_type": "markdown",
   "metadata": {},
   "source": [
    "### Max-len 'cliques' "
   ]
  },
  {
   "cell_type": "code",
   "execution_count": 13,
   "metadata": {},
   "outputs": [
    {
     "data": {
      "text/plain": [
       "{'бог_NOUN',\n",
       " 'бывать_VERB',\n",
       " 'выкормить_VERB',\n",
       " 'гора_NOUN',\n",
       " 'два_NUM',\n",
       " 'дорога_NOUN',\n",
       " 'есть_VERB',\n",
       " 'жить_VERB',\n",
       " 'земля_NOUN',\n",
       " 'идти_VERB',\n",
       " 'отыскивать_VERB',\n",
       " 'проезжий_NOUN',\n",
       " 'пускать_VERB',\n",
       " 'собака_NOUN',\n",
       " 'человек_NOUN'}"
      ]
     },
     "execution_count": 13,
     "metadata": {},
     "output_type": "execute_result"
    }
   ],
   "source": [
    "# 'abstract' of text on single-words level based on maxlen-clique extraction\n",
    "# note that find_max_clique != maxlen-clique\n",
    "get_abstract(text)"
   ]
  },
  {
   "cell_type": "code",
   "execution_count": 14,
   "metadata": {},
   "outputs": [],
   "source": [
    "# func that returns sorted by rank (by occurence in different sublists) \n",
    "# words on 'clusters' computed  with different th\n",
    "\n",
    "def matching_words(lst):\n",
    "    for i in range(len(lst)):\n",
    "        for j in range(len(lst)):\n",
    "            pass"
   ]
  },
  {
   "cell_type": "code",
   "execution_count": 15,
   "metadata": {},
   "outputs": [],
   "source": [
    "#list(clique.enumerate_all_cliques(graph))    # very sloow and computationally hard"
   ]
  }
 ],
 "metadata": {
  "kernelspec": {
   "display_name": "Python 3",
   "language": "python",
   "name": "python3"
  },
  "language_info": {
   "codemirror_mode": {
    "name": "ipython",
    "version": 3
   },
   "file_extension": ".py",
   "mimetype": "text/x-python",
   "name": "python",
   "nbconvert_exporter": "python",
   "pygments_lexer": "ipython3",
   "version": "3.7.7"
  }
 },
 "nbformat": 4,
 "nbformat_minor": 4
}
