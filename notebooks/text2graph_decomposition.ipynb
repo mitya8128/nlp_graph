{
 "cells": [
  {
   "cell_type": "code",
   "execution_count": 1,
   "metadata": {},
   "outputs": [],
   "source": [
    "from gensim.models.keyedvectors import KeyedVectors\n",
    "import numpy as np\n",
    "import sys\n",
    "sys.path.append('..')\n",
    "sys.path.append('../')\n",
    "\n",
    "from utils import*\n",
    "from graph_decomposition import*"
   ]
  },
  {
   "cell_type": "code",
   "execution_count": 2,
   "metadata": {},
   "outputs": [],
   "source": [
    "model_path = '/home/mitya/PycharmProjects/nlp_graph/model.bin'\n",
    "model = KeyedVectors.load_word2vec_format(model_path, binary=True)"
   ]
  },
  {
   "cell_type": "code",
   "execution_count": 3,
   "metadata": {},
   "outputs": [],
   "source": [
    "text = \"Есть рядом две земли: Швейцария и Италия. Между этими двумя землями есть горы Альпы. Горы эти так высоки, что снег на них никогда не тает. По дороге из Швейцарии в Италию надо переходить через эти горы. Дорога идёт через гору Сан-Готард. На самом верху этой горы, на дороге, построен монастырь. И в этом монастыре живут монахи. Монахи эти молятся Богу и пускают к себе дорожных людей на отдых и на ночлег. На Сан-Готарде всегда бывает пасмурно; летом туман, и ничего не видно. А зимой бывают такие метели, что на пять аршин заносит снегом. И проезжие и прохожие часто замерзают в эти метели. У монахов есть собаки. И собаки эти приучены отыскивать в снегу людей.Один раз по дороге в Швейцарию шла женщина с ребёночком. Началась метель; женщина сбилась с дороги, села в снегу и застыла. Монахи вышли с собаками и нашли женщину с ребёночком. Монахи отогрели ребёночка и выкормили. А женщину они принесли уже мёртвую и похоронили у себя в монастыре.\""
   ]
  },
  {
   "cell_type": "code",
   "execution_count": 4,
   "metadata": {},
   "outputs": [],
   "source": [
    "graph = text2graph(text, 0.1)\n",
    "max_clique = find_max_clique(graph)"
   ]
  },
  {
   "cell_type": "code",
   "execution_count": 5,
   "metadata": {},
   "outputs": [
    {
     "data": {
      "text/plain": [
       "272.31074218451977"
      ]
     },
     "execution_count": 5,
     "metadata": {},
     "output_type": "execute_result"
    }
   ],
   "source": [
    "clique_weights(max_clique)"
   ]
  },
  {
   "cell_type": "code",
   "execution_count": 6,
   "metadata": {},
   "outputs": [],
   "source": [
    "# set of vertices of max_clique to new weighted graph\n",
    "new_graph = text2graph(max_clique, 0.1, raw=False)\n",
    "max_clique_new = find_max_clique(new_graph)"
   ]
  },
  {
   "cell_type": "code",
   "execution_count": 7,
   "metadata": {},
   "outputs": [
    {
     "data": {
      "text/plain": [
       "272.31074218451977"
      ]
     },
     "execution_count": 7,
     "metadata": {},
     "output_type": "execute_result"
    }
   ],
   "source": [
    "clique_weights(max_clique_new)"
   ]
  },
  {
   "cell_type": "code",
   "execution_count": 8,
   "metadata": {},
   "outputs": [
    {
     "data": {
      "text/plain": [
       "True"
      ]
     },
     "execution_count": 8,
     "metadata": {},
     "output_type": "execute_result"
    }
   ],
   "source": [
    "# equal\n",
    "max_clique == max_clique_new"
   ]
  },
  {
   "cell_type": "code",
   "execution_count": 9,
   "metadata": {},
   "outputs": [],
   "source": [
    "# experiment with different threshhold on each iteration\n",
    "# (graph -> max_clique -> new graph(gen. with another th) -> max_clique -> ... -> some end 'cluster')\n",
    "\n",
    "list_dicts = []\n",
    "for i in np.arange(0.1, 0.9, 0.1):\n",
    "    new_graph = text2graph(max_clique, i, raw=False)\n",
    "    max_clique_new = find_max_clique(new_graph)\n",
    "    list_dicts.append(max_clique_new)"
   ]
  },
  {
   "cell_type": "code",
   "execution_count": 10,
   "metadata": {},
   "outputs": [
    {
     "data": {
      "text/plain": [
       "[{'аршин_NOUN',\n",
       "  'бог_NOUN',\n",
       "  'бывать_VERB',\n",
       "  'верх_NOUN',\n",
       "  'высокий_ADJ',\n",
       "  'гора_NOUN',\n",
       "  'два_NUM',\n",
       "  'дорога_NOUN',\n",
       "  'женщина_NOUN',\n",
       "  'жить_VERB',\n",
       "  'замерзать_VERB',\n",
       "  'застылый_ADJ',\n",
       "  'лето_NOUN',\n",
       "  'метель_NOUN',\n",
       "  'молиться_VERB',\n",
       "  'монастырь_NOUN',\n",
       "  'монах_NOUN',\n",
       "  'ночлег_NOUN',\n",
       "  'отыскивать_VERB',\n",
       "  'пасмурно_ADV',\n",
       "  'переходить_VERB',\n",
       "  'проезжий_NOUN',\n",
       "  'прохожий_NOUN',\n",
       "  'пускать_VERB',\n",
       "  'сбиться_VERB',\n",
       "  'село_NOUN',\n",
       "  'снег_NOUN',\n",
       "  'собака_NOUN',\n",
       "  'таять_VERB',\n",
       "  'туман_NOUN',\n",
       "  'человек_NOUN'},\n",
       " {'бывать_VERB',\n",
       "  'гора_NOUN',\n",
       "  'дорога_NOUN',\n",
       "  'женщина_NOUN',\n",
       "  'лето_NOUN',\n",
       "  'молиться_VERB',\n",
       "  'проезжий_NOUN',\n",
       "  'пускать_VERB',\n",
       "  'село_NOUN',\n",
       "  'снег_NOUN',\n",
       "  'собака_NOUN',\n",
       "  'человек_NOUN'},\n",
       " {'застылый_ADJ', 'метель_NOUN', 'пасмурно_ADV', 'таять_VERB', 'туман_NOUN'},\n",
       " {'метель_NOUN', 'пасмурно_ADV', 'снег_NOUN', 'туман_NOUN'},\n",
       " {'снег_NOUN', 'таять_VERB', 'туман_NOUN'},\n",
       " {'женщина_NOUN', 'человек_NOUN'},\n",
       " {'таять_VERB'},\n",
       " {'таять_VERB'}]"
      ]
     },
     "execution_count": 10,
     "metadata": {},
     "output_type": "execute_result"
    }
   ],
   "source": [
    "list_dicts"
   ]
  }
 ],
 "metadata": {
  "kernelspec": {
   "display_name": "Python 3",
   "language": "python",
   "name": "python3"
  },
  "language_info": {
   "codemirror_mode": {
    "name": "ipython",
    "version": 3
   },
   "file_extension": ".py",
   "mimetype": "text/x-python",
   "name": "python",
   "nbconvert_exporter": "python",
   "pygments_lexer": "ipython3",
   "version": "3.7.7"
  }
 },
 "nbformat": 4,
 "nbformat_minor": 4
}
