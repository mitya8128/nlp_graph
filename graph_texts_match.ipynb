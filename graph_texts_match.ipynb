{
 "cells": [
  {
   "cell_type": "code",
   "execution_count": 1,
   "metadata": {},
   "outputs": [],
   "source": [
    "import pandas as pd\n",
    "import numpy as np\n",
    "from gensim.models.keyedvectors import KeyedVectors\n",
    "import networkx as nx\n",
    "from scipy.sparse import lil_matrix\n",
    "import matplotlib.pyplot as plt\n",
    "\n",
    "from utils import*"
   ]
  },
  {
   "cell_type": "code",
   "execution_count": 2,
   "metadata": {},
   "outputs": [],
   "source": [
    "data = pd.read_csv('lenta-ru-train.csv')"
   ]
  },
  {
   "cell_type": "code",
   "execution_count": 3,
   "metadata": {},
   "outputs": [
    {
     "data": {
      "text/html": [
       "<div>\n",
       "<style scoped>\n",
       "    .dataframe tbody tr th:only-of-type {\n",
       "        vertical-align: middle;\n",
       "    }\n",
       "\n",
       "    .dataframe tbody tr th {\n",
       "        vertical-align: top;\n",
       "    }\n",
       "\n",
       "    .dataframe thead th {\n",
       "        text-align: right;\n",
       "    }\n",
       "</style>\n",
       "<table border=\"1\" class=\"dataframe\">\n",
       "  <thead>\n",
       "    <tr style=\"text-align: right;\">\n",
       "      <th></th>\n",
       "      <th>title</th>\n",
       "      <th>text</th>\n",
       "      <th>topic</th>\n",
       "      <th>topic_label</th>\n",
       "    </tr>\n",
       "  </thead>\n",
       "  <tbody>\n",
       "    <tr>\n",
       "      <th>0</th>\n",
       "      <td>Инфляция в январе 2006 года составит 2,6 процента</td>\n",
       "      <td>Глава Росстата Владимир Соколин заявил, что в ...</td>\n",
       "      <td>Экономика</td>\n",
       "      <td>0</td>\n",
       "    </tr>\n",
       "    <tr>\n",
       "      <th>1</th>\n",
       "      <td>Никита Михалков учредил День российского кино</td>\n",
       "      <td>У российских кинематографистов  появится новый...</td>\n",
       "      <td>Культура</td>\n",
       "      <td>3</td>\n",
       "    </tr>\n",
       "    <tr>\n",
       "      <th>2</th>\n",
       "      <td>Марко Матерацци вернется в строй к матчу с ЦСКА</td>\n",
       "      <td>Медицинский штаб миланского \"Интера\" обнародов...</td>\n",
       "      <td>Спорт</td>\n",
       "      <td>1</td>\n",
       "    </tr>\n",
       "    <tr>\n",
       "      <th>3</th>\n",
       "      <td>Определены лауреаты премии \"Книга года\"</td>\n",
       "      <td>Премии \"Книга года\" в 13 номинациях вручены на...</td>\n",
       "      <td>Культура</td>\n",
       "      <td>3</td>\n",
       "    </tr>\n",
       "    <tr>\n",
       "      <th>4</th>\n",
       "      <td>Гол Роналду со штрафного спас португальцев от ...</td>\n",
       "      <td>Сборная Португалии сыграла вничью с командой И...</td>\n",
       "      <td>Спорт</td>\n",
       "      <td>1</td>\n",
       "    </tr>\n",
       "    <tr>\n",
       "      <th>...</th>\n",
       "      <td>...</td>\n",
       "      <td>...</td>\n",
       "      <td>...</td>\n",
       "      <td>...</td>\n",
       "    </tr>\n",
       "    <tr>\n",
       "      <th>206632</th>\n",
       "      <td>Бывшую вице-президента Tiffany обвинили в милл...</td>\n",
       "      <td>Бывшей вице-президенту ювелирной компании Tiff...</td>\n",
       "      <td>Экономика</td>\n",
       "      <td>0</td>\n",
       "    </tr>\n",
       "    <tr>\n",
       "      <th>206633</th>\n",
       "      <td>Минфин предложил увеличить штрафы за незаконны...</td>\n",
       "      <td>Минфин предлагает увеличить размер штрафа для ...</td>\n",
       "      <td>Экономика</td>\n",
       "      <td>0</td>\n",
       "    </tr>\n",
       "    <tr>\n",
       "      <th>206634</th>\n",
       "      <td>Потребительская уверенность россиян вернулась ...</td>\n",
       "      <td>Индекс потребительской уверенности россиян в п...</td>\n",
       "      <td>Экономика</td>\n",
       "      <td>0</td>\n",
       "    </tr>\n",
       "    <tr>\n",
       "      <th>206635</th>\n",
       "      <td>Тарпищеву дали американскую визу</td>\n",
       "      <td>Капитан женской сборной России по теннису Шами...</td>\n",
       "      <td>Спорт</td>\n",
       "      <td>1</td>\n",
       "    </tr>\n",
       "    <tr>\n",
       "      <th>206636</th>\n",
       "      <td>УЕФА пригрозил России исключением из числа уча...</td>\n",
       "      <td>Союз европейских футбольных ассоциаций (УЕФА) ...</td>\n",
       "      <td>Спорт</td>\n",
       "      <td>1</td>\n",
       "    </tr>\n",
       "  </tbody>\n",
       "</table>\n",
       "<p>206637 rows × 4 columns</p>\n",
       "</div>"
      ],
      "text/plain": [
       "                                                    title  \\\n",
       "0       Инфляция в январе 2006 года составит 2,6 процента   \n",
       "1           Никита Михалков учредил День российского кино   \n",
       "2         Марко Матерацци вернется в строй к матчу с ЦСКА   \n",
       "3                 Определены лауреаты премии \"Книга года\"   \n",
       "4       Гол Роналду со штрафного спас португальцев от ...   \n",
       "...                                                   ...   \n",
       "206632  Бывшую вице-президента Tiffany обвинили в милл...   \n",
       "206633  Минфин предложил увеличить штрафы за незаконны...   \n",
       "206634  Потребительская уверенность россиян вернулась ...   \n",
       "206635                   Тарпищеву дали американскую визу   \n",
       "206636  УЕФА пригрозил России исключением из числа уча...   \n",
       "\n",
       "                                                     text      topic  \\\n",
       "0       Глава Росстата Владимир Соколин заявил, что в ...  Экономика   \n",
       "1       У российских кинематографистов  появится новый...   Культура   \n",
       "2       Медицинский штаб миланского \"Интера\" обнародов...      Спорт   \n",
       "3       Премии \"Книга года\" в 13 номинациях вручены на...   Культура   \n",
       "4       Сборная Португалии сыграла вничью с командой И...      Спорт   \n",
       "...                                                   ...        ...   \n",
       "206632  Бывшей вице-президенту ювелирной компании Tiff...  Экономика   \n",
       "206633  Минфин предлагает увеличить размер штрафа для ...  Экономика   \n",
       "206634  Индекс потребительской уверенности россиян в п...  Экономика   \n",
       "206635  Капитан женской сборной России по теннису Шами...      Спорт   \n",
       "206636  Союз европейских футбольных ассоциаций (УЕФА) ...      Спорт   \n",
       "\n",
       "        topic_label  \n",
       "0                 0  \n",
       "1                 3  \n",
       "2                 1  \n",
       "3                 3  \n",
       "4                 1  \n",
       "...             ...  \n",
       "206632            0  \n",
       "206633            0  \n",
       "206634            0  \n",
       "206635            1  \n",
       "206636            1  \n",
       "\n",
       "[206637 rows x 4 columns]"
      ]
     },
     "execution_count": 3,
     "metadata": {},
     "output_type": "execute_result"
    }
   ],
   "source": [
    "data"
   ]
  },
  {
   "cell_type": "markdown",
   "metadata": {},
   "source": [
    "### examples of different graph metrics to compute distance between texts"
   ]
  },
  {
   "cell_type": "code",
   "execution_count": 4,
   "metadata": {},
   "outputs": [],
   "source": [
    "test = data[0:100]"
   ]
  },
  {
   "cell_type": "code",
   "execution_count": 5,
   "metadata": {},
   "outputs": [],
   "source": [
    "graph_1 = text2graph(test['text'][0], 0.1)\n",
    "graph_2 = text2graph(test['text'][1], 0.1)"
   ]
  },
  {
   "cell_type": "code",
   "execution_count": 6,
   "metadata": {},
   "outputs": [
    {
     "data": {
      "text/plain": [
       "0.017"
      ]
     },
     "execution_count": 6,
     "metadata": {},
     "output_type": "execute_result"
    }
   ],
   "source": [
    "jaccard_similarity(graph_1, graph_2) # diff between texts of economics and culture topics"
   ]
  },
  {
   "cell_type": "code",
   "execution_count": 7,
   "metadata": {},
   "outputs": [],
   "source": [
    "graph_3 = text2graph(test['text'][7], 0.1)\n",
    "graph_4 = text2graph(test['text'][9], 0.1)"
   ]
  },
  {
   "cell_type": "code",
   "execution_count": 8,
   "metadata": {},
   "outputs": [
    {
     "data": {
      "text/plain": [
       "0.105"
      ]
     },
     "execution_count": 8,
     "metadata": {},
     "output_type": "execute_result"
    }
   ],
   "source": [
    "jaccard_similarity(graph_1, graph_3) # diff between texts of economics and economics topics"
   ]
  },
  {
   "cell_type": "code",
   "execution_count": 9,
   "metadata": {},
   "outputs": [
    {
     "data": {
      "text/plain": [
       "0.11201891071746739"
      ]
     },
     "execution_count": 9,
     "metadata": {},
     "output_type": "execute_result"
    }
   ],
   "source": [
    "nx.average_clustering(graph_1) - nx.average_clustering(graph_2)"
   ]
  },
  {
   "cell_type": "markdown",
   "metadata": {},
   "source": [
    "### ok, lets do some search engine"
   ]
  },
  {
   "cell_type": "code",
   "execution_count": 10,
   "metadata": {},
   "outputs": [
    {
     "name": "stdout",
     "output_type": "stream",
     "text": [
      "CPU times: user 47.4 s, sys: 28.7 ms, total: 47.4 s\n",
      "Wall time: 47.5 s\n"
     ]
    },
    {
     "name": "stderr",
     "output_type": "stream",
     "text": [
      "/home/mitya/PycharmProjects/nlp_graph/nlp_graph/lib/python3.7/site-packages/ipykernel_launcher.py:1: SettingWithCopyWarning: \n",
      "A value is trying to be set on a copy of a slice from a DataFrame.\n",
      "Try using .loc[row_indexer,col_indexer] = value instead\n",
      "\n",
      "See the caveats in the documentation: https://pandas.pydata.org/pandas-docs/stable/user_guide/indexing.html#returning-a-view-versus-a-copy\n",
      "  \"\"\"Entry point for launching an IPython kernel.\n"
     ]
    }
   ],
   "source": [
    "%%time\n",
    "test['dist'] = test['text'].apply(lambda x: nx.average_clustering(text2graph(x, 0.1)))"
   ]
  },
  {
   "cell_type": "code",
   "execution_count": 11,
   "metadata": {},
   "outputs": [],
   "source": [
    "#test['dist_jaccard'] = "
   ]
  },
  {
   "cell_type": "code",
   "execution_count": 12,
   "metadata": {},
   "outputs": [],
   "source": [
    "query = 'Художница купила консоль PlayStation 5 в интернете, нарвалась на мошенника и отомстила ему. Соответствующий материал публикует портал Bored Panda.Американка Бриттани Эверет (Brittany Everette) рассказала, что ей предложили приобрести бездисковую Playstation 5 за цену, по которой ее продают в магазинах, а именно, 450 долларов (34 тысячи рублей). Мужчина объяснил, что его девушка подарила ему не ту версию приставки.'"
   ]
  },
  {
   "cell_type": "code",
   "execution_count": 13,
   "metadata": {},
   "outputs": [
    {
     "data": {
      "text/plain": [
       "0.6321573989018345"
      ]
     },
     "execution_count": 13,
     "metadata": {},
     "output_type": "execute_result"
    }
   ],
   "source": [
    "preprocess_query(query, nx.average_clustering, 0.1)"
   ]
  },
  {
   "cell_type": "code",
   "execution_count": 14,
   "metadata": {},
   "outputs": [
    {
     "name": "stdout",
     "output_type": "stream",
     "text": [
      "CPU times: user 6 µs, sys: 0 ns, total: 6 µs\n",
      "Wall time: 11.2 µs\n"
     ]
    },
    {
     "name": "stderr",
     "output_type": "stream",
     "text": [
      "/home/mitya/PycharmProjects/nlp_graph/utils.py:254: SettingWithCopyWarning: \n",
      "A value is trying to be set on a copy of a slice from a DataFrame.\n",
      "Try using .loc[row_indexer,col_indexer] = value instead\n",
      "\n",
      "See the caveats in the documentation: https://pandas.pydata.org/pandas-docs/stable/user_guide/indexing.html#returning-a-view-versus-a-copy\n",
      "  df['result'] = df['dist'].apply(lambda x: abs(query_preproc - x))\n"
     ]
    },
    {
     "data": {
      "text/plain": [
       "63    Суд в Гааге наложил временный запрет на продаж...\n",
       "73    Международная федерация звукозаписывающей инду...\n",
       "53    Американский писатель Дэн Браун (Dan Brown), а...\n",
       "74    В пятницу основатели студии Miramax братья Хар...\n",
       "11    Российскому боксеру Федору Чудинову вернут тит...\n",
       "                            ...                        \n",
       "81    Наиболее доходной профессией в настоящее время...\n",
       "45    Гендиректор «Почты России» Дмитрий Страшнов уд...\n",
       "9     Чистый приток вкладов населения в российские б...\n",
       "0     Глава Росстата Владимир Соколин заявил, что в ...\n",
       "71    Альфа-банк на следующей неделе может подать ис...\n",
       "Name: text, Length: 100, dtype: object"
      ]
     },
     "execution_count": 14,
     "metadata": {},
     "output_type": "execute_result"
    }
   ],
   "source": [
    "# results may vary because of text2graph algorithm\n",
    "%time\n",
    "find_closest(query, nx.average_clustering, test, 0.1)"
   ]
  },
  {
   "cell_type": "markdown",
   "metadata": {},
   "source": [
    "#### average distance between textgraphs inside topics"
   ]
  },
  {
   "cell_type": "code",
   "execution_count": 15,
   "metadata": {},
   "outputs": [
    {
     "name": "stdout",
     "output_type": "stream",
     "text": [
      "\n",
      "    computes average distance by the chosen metric between text-graphs of certain topic.\n",
      "\n",
      "    arguments:\n",
      "    df -- dataframe to analyze\n",
      "    topic -- class of texts to choose\n",
      "    column -- column to analyze\n",
      "    func -- metric to use\n",
      "\n",
      "    \n"
     ]
    }
   ],
   "source": [
    "print(average_distance.__doc__)"
   ]
  },
  {
   "cell_type": "code",
   "execution_count": 16,
   "metadata": {},
   "outputs": [
    {
     "data": {
      "text/plain": [
       "0.088"
      ]
     },
     "execution_count": 16,
     "metadata": {},
     "output_type": "execute_result"
    }
   ],
   "source": [
    "average_distance(test, 'Экономика', 'text', jaccard_similarity)"
   ]
  },
  {
   "cell_type": "code",
   "execution_count": 17,
   "metadata": {},
   "outputs": [
    {
     "data": {
      "text/plain": [
       "0.069"
      ]
     },
     "execution_count": 17,
     "metadata": {},
     "output_type": "execute_result"
    }
   ],
   "source": [
    "average_distance(test, 'Культура', 'text', jaccard_similarity)"
   ]
  },
  {
   "cell_type": "code",
   "execution_count": 18,
   "metadata": {},
   "outputs": [
    {
     "data": {
      "text/plain": [
       "0.737"
      ]
     },
     "execution_count": 18,
     "metadata": {},
     "output_type": "execute_result"
    }
   ],
   "source": [
    "average_distance(test, 'Бизнес', 'text', nx.average_clustering)"
   ]
  },
  {
   "cell_type": "code",
   "execution_count": 19,
   "metadata": {},
   "outputs": [],
   "source": [
    "#average_distance(test, 'Экономика', nx.average_clustering) # division by zero"
   ]
  },
  {
   "cell_type": "code",
   "execution_count": 20,
   "metadata": {},
   "outputs": [],
   "source": [
    "# ideas:\n",
    "# 1.make 'average' graph for each class\n",
    "#   make function to diff them\n",
    "\n",
    "# 2.graph representation of texts --> vector representation\n",
    "#   distance metric vector representations\n",
    "\n",
    "# 3.graph distance metric\n",
    "\n",
    "# 4.compute average distance between graphs inside topics"
   ]
  }
 ],
 "metadata": {
  "kernelspec": {
   "display_name": "Python 3",
   "language": "python",
   "name": "python3"
  },
  "language_info": {
   "codemirror_mode": {
    "name": "ipython",
    "version": 3
   },
   "file_extension": ".py",
   "mimetype": "text/x-python",
   "name": "python",
   "nbconvert_exporter": "python",
   "pygments_lexer": "ipython3",
   "version": "3.7.7"
  }
 },
 "nbformat": 4,
 "nbformat_minor": 4
}
